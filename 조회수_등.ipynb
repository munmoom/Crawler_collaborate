{
  "nbformat": 4,
  "nbformat_minor": 0,
  "metadata": {
    "colab": {
      "name": "조회수_등.ipynb",
      "provenance": [],
      "include_colab_link": true
    },
    "kernelspec": {
      "name": "python3",
      "display_name": "Python 3"
    },
    "language_info": {
      "name": "python"
    }
  },
  "cells": [
    {
      "cell_type": "markdown",
      "metadata": {
        "id": "view-in-github",
        "colab_type": "text"
      },
      "source": [
        "<a href=\"https://colab.research.google.com/github/munmoom/Crawler_collaborate/blob/main/%EC%A1%B0%ED%9A%8C%EC%88%98_%EB%93%B1.ipynb\" target=\"_parent\"><img src=\"https://colab.research.google.com/assets/colab-badge.svg\" alt=\"Open In Colab\"/></a>"
      ]
    },
    {
      "cell_type": "code",
      "execution_count": null,
      "metadata": {
        "id": "Z4-5u1hXZU82"
      },
      "outputs": [],
      "source": [
        "from urllib.request import urlopen\n",
        "url='https://www.data.go.kr/tcs/dss/selectDataSetList.do?dType=FILE&keyword=%EC%BD%94%EB%A1%9C%EB%82%98&detailKeyword=&publicDataPk=&recmSe=&detailText=&relatedKeyword=&commaNotInData=&commaAndData=&commaOrData=&must_not=&tabId=&dataSetCoreTf=&coreDataNm=&sort=_score&relRadio=&orgFullName=&orgFilter=&org=&orgSearch=&currentPage=1&perPage=10&brm=&instt=&svcType=&kwrdArray=&extsn=&coreDataNmArray=&pblonsipScopeCode='\n",
        "htmlData=urlopen(url).read()\n",
        "htmlData=htmlData.decode('utf8')\n",
        "from bs4 import BeautifulSoup as bs\n",
        "html=bs(htmlData,'html.parser')\n",
        "html"
      ]
    },
    {
      "cell_type": "code",
      "source": [
        "ul = html.select('#fileDataList > div.result-list > ul > li')\n",
        "ul"
      ],
      "metadata": {
        "id": "b8SgkCWcZdEz"
      },
      "execution_count": null,
      "outputs": []
    },
    {
      "cell_type": "code",
      "source": [
        "who = []\n",
        "for item in ul:\n",
        "  num = item.find_all(\"span\", class_='tit')\n",
        "  who.append(num)\n",
        "print(who)"
      ],
      "metadata": {
        "colab": {
          "base_uri": "https://localhost:8080/"
        },
        "id": "H2dOyKbvjngI",
        "outputId": "4e1db28a-303d-4b0e-e7e0-b369529db95e"
      },
      "execution_count": 4,
      "outputs": [
        {
          "output_type": "stream",
          "name": "stdout",
          "text": [
            "[[<span class=\"tit\">제공기관</span>, <span class=\"tit\">수정일</span>, <span class=\"tit\">조회수</span>, <span class=\"tit\">다운로드</span>, <span class=\"tit\">주기성 데이터</span>, <span class=\"tit\">키워드</span>], [<span class=\"tit\">제공기관</span>, <span class=\"tit\">수정일</span>, <span class=\"tit\">조회수</span>, <span class=\"tit\">다운로드</span>, <span class=\"tit\">키워드</span>], [<span class=\"tit\">제공기관</span>, <span class=\"tit\">수정일</span>, <span class=\"tit\">조회수</span>, <span class=\"tit\">다운로드</span>, <span class=\"tit\">키워드</span>], [<span class=\"tit\">제공기관</span>, <span class=\"tit\">수정일</span>, <span class=\"tit\">조회수</span>, <span class=\"tit\">다운로드</span>, <span class=\"tit\">키워드</span>], [<span class=\"tit\">제공기관</span>, <span class=\"tit\">수정일</span>, <span class=\"tit\">조회수</span>, <span class=\"tit\">다운로드</span>, <span class=\"tit\">키워드</span>], [<span class=\"tit\">제공기관</span>, <span class=\"tit\">수정일</span>, <span class=\"tit\">조회수</span>, <span class=\"tit\">다운로드</span>, <span class=\"tit\">키워드</span>], [<span class=\"tit\">제공기관</span>, <span class=\"tit\">수정일</span>, <span class=\"tit\">조회수</span>, <span class=\"tit\">다운로드</span>, <span class=\"tit\">키워드</span>], [<span class=\"tit\">제공기관</span>, <span class=\"tit\">수정일</span>, <span class=\"tit\">조회수</span>, <span class=\"tit\">다운로드</span>, <span class=\"tit\">키워드</span>], [<span class=\"tit\">제공기관</span>, <span class=\"tit\">수정일</span>, <span class=\"tit\">조회수</span>, <span class=\"tit\">다운로드</span>, <span class=\"tit\">키워드</span>], [<span class=\"tit\">제공기관</span>, <span class=\"tit\">수정일</span>, <span class=\"tit\">조회수</span>, <span class=\"tit\">다운로드</span>, <span class=\"tit\">키워드</span>]]\n"
          ]
        }
      ]
    },
    {
      "cell_type": "code",
      "source": [
        "whole = []\n",
        "for item in ul:\n",
        "  num = item.find_all(\"span\", class_='data')\n",
        "  whole.append(num)\n",
        "print(whole)"
      ],
      "metadata": {
        "id": "-mqSZurVk973"
      },
      "execution_count": null,
      "outputs": []
    },
    {
      "cell_type": "code",
      "source": [
        "whole[1]"
      ],
      "metadata": {
        "id": "0eWeduepy2ou",
        "outputId": "1016b228-0209-4354-ebee-68d83552741c",
        "colab": {
          "base_uri": "https://localhost:8080/"
        }
      },
      "execution_count": 9,
      "outputs": [
        {
          "output_type": "execute_result",
          "data": {
            "text/plain": [
              "[<span class=\"data\">\n",
              " \t\t\t\t\t\t\t\t\t\t\t\n",
              " \t\t\t\t\t\t\t\t\t\t\t\t\n",
              " \t\t\t\t\t\t\t\t\t\t\t\t\n",
              " \t\t\t\t\t\t\t\t\t\t\t\t\t서울특별시 강동구\n",
              " \t\t\t\t\t\t\t\t\t\t\t\t\n",
              " \t\t\t\t\t\t\t\t\t\t\t\n",
              " \t\t\t\t\t\t\t\t\t</span>, <span class=\"data\">\n",
              " \t\t\t\t\t\t\t\t\t\t\n",
              " \t\t\t\t\t\t\t\t\t\t\n",
              " \t\t\t\t\t\t\t\t\t\t2020-09-23\n",
              " \t\t\t\t\t\t\t\t\t</span>, <span class=\"data\">\n",
              " \t\t\t\t\t\t\t\t\t\t\n",
              " \t\t\t\t\t\t\t\t\t\t\t\n",
              " \t\t\t\t\t\t\t\t\t\t\t\n",
              " \t\t\t\t\t\t\t\t\t\t\t\t2868\n",
              " \t\t\t\t\t\t\t\t\t\t\t\n",
              " \t\t\t\t\t\t\t\t\t\t\n",
              " \t\t\t\t\t\t\t\t\t</span>, <span class=\"data\">765</span>]"
            ]
          },
          "metadata": {},
          "execution_count": 9
        }
      ]
    },
    {
      "cell_type": "code",
      "source": [
        "import re\n",
        "list=[]\n",
        "for i in range(10):\n",
        "  ko = whole[i]\n",
        "  for a in range(4):\n",
        "    li = ko[a]\n",
        "    li = str(li)\n",
        "    li = re.sub('<.+?>', '', li, a).strip()\n",
        "    list.append(li)"
      ],
      "metadata": {
        "id": "tHeULBrBuEBn"
      },
      "execution_count": 10,
      "outputs": []
    }
  ]
}