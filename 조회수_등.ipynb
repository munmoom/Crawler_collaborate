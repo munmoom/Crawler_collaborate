{
  "nbformat": 4,
  "nbformat_minor": 0,
  "metadata": {
    "colab": {
      "name": "조회수_등.ipynb",
      "provenance": [],
      "include_colab_link": true
    },
    "kernelspec": {
      "name": "python3",
      "display_name": "Python 3"
    },
    "language_info": {
      "name": "python"
    }
  },
  "cells": [
    {
      "cell_type": "markdown",
      "metadata": {
        "id": "view-in-github",
        "colab_type": "text"
      },
      "source": [
        "<a href=\"https://colab.research.google.com/github/munmoom/Crawler_collaborate/blob/main/%EC%A1%B0%ED%9A%8C%EC%88%98_%EB%93%B1.ipynb\" target=\"_parent\"><img src=\"https://colab.research.google.com/assets/colab-badge.svg\" alt=\"Open In Colab\"/></a>"
      ]
    },
    {
      "cell_type": "code",
      "execution_count": null,
      "metadata": {
        "id": "Z4-5u1hXZU82"
      },
      "outputs": [],
      "source": [
        "from urllib.request import urlopen\n",
        "url='https://www.data.go.kr/tcs/dss/selectDataSetList.do?dType=FILE&keyword=%EC%BD%94%EB%A1%9C%EB%82%98&detailKeyword=&publicDataPk=&recmSe=&detailText=&relatedKeyword=&commaNotInData=&commaAndData=&commaOrData=&must_not=&tabId=&dataSetCoreTf=&coreDataNm=&sort=_score&relRadio=&orgFullName=&orgFilter=&org=&orgSearch=&currentPage=1&perPage=10&brm=&instt=&svcType=&kwrdArray=&extsn=&coreDataNmArray=&pblonsipScopeCode='\n",
        "htmlData=urlopen(url).read()\n",
        "htmlData=htmlData.decode('utf8')\n",
        "from bs4 import BeautifulSoup as bs\n",
        "html=bs(htmlData,'html.parser')\n",
        "html"
      ]
    },
    {
      "cell_type": "code",
      "source": [
        "ul = html.select('#fileDataList > div.result-list > ul > li')\n",
        "ul"
      ],
      "metadata": {
        "id": "b8SgkCWcZdEz"
      },
      "execution_count": null,
      "outputs": []
    },
    {
      "cell_type": "code",
      "source": [
        "who = []\n",
        "for item in ul:\n",
        "  num = item.find_all(\"span\", class_='tit')\n",
        "  who.append(num)\n",
        "print(who)"
      ],
      "metadata": {
        "colab": {
          "base_uri": "https://localhost:8080/"
        },
        "id": "H2dOyKbvjngI",
        "outputId": "36e65726-479c-4bc7-f47d-a2389d0777a7"
      },
      "execution_count": null,
      "outputs": [
        {
          "output_type": "stream",
          "name": "stdout",
          "text": [
            "[[<span class=\"tit\">제공기관</span>, <span class=\"tit\">수정일</span>, <span class=\"tit\">조회수</span>, <span class=\"tit\">다운로드</span>, <span class=\"tit\">주기성 데이터</span>, <span class=\"tit\">키워드</span>], [<span class=\"tit\">제공기관</span>, <span class=\"tit\">수정일</span>, <span class=\"tit\">조회수</span>, <span class=\"tit\">다운로드</span>, <span class=\"tit\">키워드</span>], [<span class=\"tit\">제공기관</span>, <span class=\"tit\">수정일</span>, <span class=\"tit\">조회수</span>, <span class=\"tit\">다운로드</span>, <span class=\"tit\">키워드</span>], [<span class=\"tit\">제공기관</span>, <span class=\"tit\">수정일</span>, <span class=\"tit\">조회수</span>, <span class=\"tit\">다운로드</span>, <span class=\"tit\">키워드</span>], [<span class=\"tit\">제공기관</span>, <span class=\"tit\">수정일</span>, <span class=\"tit\">조회수</span>, <span class=\"tit\">다운로드</span>, <span class=\"tit\">키워드</span>], [<span class=\"tit\">제공기관</span>, <span class=\"tit\">수정일</span>, <span class=\"tit\">조회수</span>, <span class=\"tit\">다운로드</span>, <span class=\"tit\">키워드</span>], [<span class=\"tit\">제공기관</span>, <span class=\"tit\">수정일</span>, <span class=\"tit\">조회수</span>, <span class=\"tit\">다운로드</span>, <span class=\"tit\">키워드</span>], [<span class=\"tit\">제공기관</span>, <span class=\"tit\">수정일</span>, <span class=\"tit\">조회수</span>, <span class=\"tit\">다운로드</span>, <span class=\"tit\">키워드</span>], [<span class=\"tit\">제공기관</span>, <span class=\"tit\">수정일</span>, <span class=\"tit\">조회수</span>, <span class=\"tit\">다운로드</span>, <span class=\"tit\">키워드</span>], [<span class=\"tit\">제공기관</span>, <span class=\"tit\">수정일</span>, <span class=\"tit\">조회수</span>, <span class=\"tit\">다운로드</span>, <span class=\"tit\">키워드</span>]]\n"
          ]
        }
      ]
    },
    {
      "cell_type": "code",
      "source": [
        "whole = []\n",
        "for item in ul:\n",
        "  num = item.find_all(\"span\", class_='data')\n",
        "  whole.append(num)\n",
        "print(whole)"
      ],
      "metadata": {
        "id": "-mqSZurVk973"
      },
      "execution_count": null,
      "outputs": []
    },
    {
      "cell_type": "code",
      "source": [
        "list=[]\n",
        "for i in range(10):\n",
        "  ko = whole[i]\n",
        "  for a in range(6):\n",
        "    import re\n",
        "    li = ko[a]\n",
        "    li = str(li)\n",
        "    li = re.sub('<.+?>', '', li, a).strip()\n",
        "    list.append(li)\n"
      ],
      "metadata": {
        "id": "tHeULBrBuEBn",
        "outputId": "16a3f279-4c25-4887-d539-c6dbdf8c694c",
        "colab": {
          "base_uri": "https://localhost:8080/",
          "height": 244
        }
      },
      "execution_count": 20,
      "outputs": [
        {
          "output_type": "error",
          "ename": "IndexError",
          "evalue": "ignored",
          "traceback": [
            "\u001b[0;31m---------------------------------------------------------------------------\u001b[0m",
            "\u001b[0;31mIndexError\u001b[0m                                Traceback (most recent call last)",
            "\u001b[0;32m<ipython-input-20-f03c5c1f9ea5>\u001b[0m in \u001b[0;36m<module>\u001b[0;34m()\u001b[0m\n\u001b[1;32m      4\u001b[0m   \u001b[0;32mfor\u001b[0m \u001b[0ma\u001b[0m \u001b[0;32min\u001b[0m \u001b[0mrange\u001b[0m\u001b[0;34m(\u001b[0m\u001b[0;36m6\u001b[0m\u001b[0;34m)\u001b[0m\u001b[0;34m:\u001b[0m\u001b[0;34m\u001b[0m\u001b[0;34m\u001b[0m\u001b[0m\n\u001b[1;32m      5\u001b[0m     \u001b[0;32mimport\u001b[0m \u001b[0mre\u001b[0m\u001b[0;34m\u001b[0m\u001b[0;34m\u001b[0m\u001b[0m\n\u001b[0;32m----> 6\u001b[0;31m     \u001b[0mli\u001b[0m \u001b[0;34m=\u001b[0m \u001b[0mko\u001b[0m\u001b[0;34m[\u001b[0m\u001b[0ma\u001b[0m\u001b[0;34m]\u001b[0m\u001b[0;34m\u001b[0m\u001b[0;34m\u001b[0m\u001b[0m\n\u001b[0m\u001b[1;32m      7\u001b[0m     \u001b[0mli\u001b[0m \u001b[0;34m=\u001b[0m \u001b[0mstr\u001b[0m\u001b[0;34m(\u001b[0m\u001b[0mli\u001b[0m\u001b[0;34m)\u001b[0m\u001b[0;34m\u001b[0m\u001b[0;34m\u001b[0m\u001b[0m\n\u001b[1;32m      8\u001b[0m     \u001b[0mli\u001b[0m \u001b[0;34m=\u001b[0m \u001b[0mre\u001b[0m\u001b[0;34m.\u001b[0m\u001b[0msub\u001b[0m\u001b[0;34m(\u001b[0m\u001b[0;34m'<.+?>'\u001b[0m\u001b[0;34m,\u001b[0m \u001b[0;34m''\u001b[0m\u001b[0;34m,\u001b[0m \u001b[0mli\u001b[0m\u001b[0;34m,\u001b[0m \u001b[0ma\u001b[0m\u001b[0;34m)\u001b[0m\u001b[0;34m.\u001b[0m\u001b[0mstrip\u001b[0m\u001b[0;34m(\u001b[0m\u001b[0;34m)\u001b[0m\u001b[0;34m\u001b[0m\u001b[0;34m\u001b[0m\u001b[0m\n",
            "\u001b[0;31mIndexError\u001b[0m: list index out of range"
          ]
        }
      ]
    }
  ]
}