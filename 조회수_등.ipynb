{
  "nbformat": 4,
  "nbformat_minor": 0,
  "metadata": {
    "colab": {
      "name": "조회수_등.ipynb",
      "provenance": [],
      "include_colab_link": true
    },
    "kernelspec": {
      "name": "python3",
      "display_name": "Python 3"
    },
    "language_info": {
      "name": "python"
    }
  },
  "cells": [
    {
      "cell_type": "markdown",
      "metadata": {
        "id": "view-in-github",
        "colab_type": "text"
      },
      "source": [
        "<a href=\"https://colab.research.google.com/github/munmoom/Crawler_collaborate/blob/main/%EC%A1%B0%ED%9A%8C%EC%88%98_%EB%93%B1.ipynb\" target=\"_parent\"><img src=\"https://colab.research.google.com/assets/colab-badge.svg\" alt=\"Open In Colab\"/></a>"
      ]
    },
    {
      "cell_type": "code",
      "execution_count": null,
      "metadata": {
        "id": "Z4-5u1hXZU82"
      },
      "outputs": [],
      "source": [
        "from urllib.request import urlopen\n",
        "url='https://www.data.go.kr/tcs/dss/selectDataSetList.do?dType=FILE&keyword=%EC%BD%94%EB%A1%9C%EB%82%98&detailKeyword=&publicDataPk=&recmSe=&detailText=&relatedKeyword=&commaNotInData=&commaAndData=&commaOrData=&must_not=&tabId=&dataSetCoreTf=&coreDataNm=&sort=_score&relRadio=&orgFullName=&orgFilter=&org=&orgSearch=&currentPage=1&perPage=10&brm=&instt=&svcType=&kwrdArray=&extsn=&coreDataNmArray=&pblonsipScopeCode='\n",
        "htmlData=urlopen(url).read()\n",
        "htmlData=htmlData.decode('utf8')\n",
        "from bs4 import BeautifulSoup as bs\n",
        "html=bs(htmlData,'html.parser')\n",
        "html"
      ]
    },
    {
      "cell_type": "code",
      "source": [
        "ul = html.select('#fileDataList > div.result-list > ul > li')\n",
        "ul"
      ],
      "metadata": {
        "id": "b8SgkCWcZdEz"
      },
      "execution_count": null,
      "outputs": []
    },
    {
      "cell_type": "code",
      "source": [
        "who = []\n",
        "for item in ul:\n",
        "  num = item.find_all(\"span\", class_='tit')\n",
        "  who.append(num)\n",
        "print(who)"
      ],
      "metadata": {
        "colab": {
          "base_uri": "https://localhost:8080/"
        },
        "id": "H2dOyKbvjngI",
        "outputId": "36e65726-479c-4bc7-f47d-a2389d0777a7"
      },
      "execution_count": null,
      "outputs": [
        {
          "output_type": "stream",
          "name": "stdout",
          "text": [
            "[[<span class=\"tit\">제공기관</span>, <span class=\"tit\">수정일</span>, <span class=\"tit\">조회수</span>, <span class=\"tit\">다운로드</span>, <span class=\"tit\">주기성 데이터</span>, <span class=\"tit\">키워드</span>], [<span class=\"tit\">제공기관</span>, <span class=\"tit\">수정일</span>, <span class=\"tit\">조회수</span>, <span class=\"tit\">다운로드</span>, <span class=\"tit\">키워드</span>], [<span class=\"tit\">제공기관</span>, <span class=\"tit\">수정일</span>, <span class=\"tit\">조회수</span>, <span class=\"tit\">다운로드</span>, <span class=\"tit\">키워드</span>], [<span class=\"tit\">제공기관</span>, <span class=\"tit\">수정일</span>, <span class=\"tit\">조회수</span>, <span class=\"tit\">다운로드</span>, <span class=\"tit\">키워드</span>], [<span class=\"tit\">제공기관</span>, <span class=\"tit\">수정일</span>, <span class=\"tit\">조회수</span>, <span class=\"tit\">다운로드</span>, <span class=\"tit\">키워드</span>], [<span class=\"tit\">제공기관</span>, <span class=\"tit\">수정일</span>, <span class=\"tit\">조회수</span>, <span class=\"tit\">다운로드</span>, <span class=\"tit\">키워드</span>], [<span class=\"tit\">제공기관</span>, <span class=\"tit\">수정일</span>, <span class=\"tit\">조회수</span>, <span class=\"tit\">다운로드</span>, <span class=\"tit\">키워드</span>], [<span class=\"tit\">제공기관</span>, <span class=\"tit\">수정일</span>, <span class=\"tit\">조회수</span>, <span class=\"tit\">다운로드</span>, <span class=\"tit\">키워드</span>], [<span class=\"tit\">제공기관</span>, <span class=\"tit\">수정일</span>, <span class=\"tit\">조회수</span>, <span class=\"tit\">다운로드</span>, <span class=\"tit\">키워드</span>], [<span class=\"tit\">제공기관</span>, <span class=\"tit\">수정일</span>, <span class=\"tit\">조회수</span>, <span class=\"tit\">다운로드</span>, <span class=\"tit\">키워드</span>]]\n"
          ]
        }
      ]
    },
    {
      "cell_type": "code",
      "source": [
        "whole = []\n",
        "for item in ul:\n",
        "  num = item.find_all(\"span\", class_='data')\n",
        "  whole.append(num)\n",
        "print(whole)"
      ],
      "metadata": {
        "id": "-mqSZurVk973",
        "colab": {
          "base_uri": "https://localhost:8080/"
        },
        "outputId": "8a7d70cd-949b-49a7-d5e8-27e0f13a2e89"
      },
      "execution_count": 21,
      "outputs": [
        {
          "output_type": "stream",
          "name": "stdout",
          "text": [
            "[[<span class=\"data\">\r\n",
            "\t\t\t\t\t\t\t\t\t\t\t\r\n",
            "\t\t\t\t\t\t\t\t\t\t\t\t\r\n",
            "\t\t\t\t\t\t\t\t\t\t\t\t\r\n",
            "\t\t\t\t\t\t\t\t\t\t\t\t\t한국언론진흥재단\r\n",
            "\t\t\t\t\t\t\t\t\t\t\t\t\r\n",
            "\t\t\t\t\t\t\t\t\t\t\t\r\n",
            "\t\t\t\t\t\t\t\t\t</span>, <span class=\"data\">\r\n",
            "\t\t\t\t\t\t\t\t\t\t\r\n",
            "\t\t\t\t\t\t\t\t\t\t\r\n",
            "\t\t\t\t\t\t\t\t\t\t2021-08-25\r\n",
            "\t\t\t\t\t\t\t\t\t</span>, <span class=\"data\">\r\n",
            "\t\t\t\t\t\t\t\t\t\t\r\n",
            "\t\t\t\t\t\t\t\t\t\t\t\r\n",
            "\t\t\t\t\t\t\t\t\t\t\t\r\n",
            "\t\t\t\t\t\t\t\t\t\t\t\t20049\r\n",
            "\t\t\t\t\t\t\t\t\t\t\t\r\n",
            "\t\t\t\t\t\t\t\t\t\t\r\n",
            "\t\t\t\t\t\t\t\t\t</span>, <span class=\"data\">39972</span>, <span class=\"data\">\r\n",
            "\t\t\t\t\t\t\t\t\t\t\t\t\t19\r\n",
            "\t\t\t\t\t\t\t\t\t\t\t\t</span>], [<span class=\"data\">\r\n",
            "\t\t\t\t\t\t\t\t\t\t\t\r\n",
            "\t\t\t\t\t\t\t\t\t\t\t\t\r\n",
            "\t\t\t\t\t\t\t\t\t\t\t\t\r\n",
            "\t\t\t\t\t\t\t\t\t\t\t\t\t서울특별시 강동구\r\n",
            "\t\t\t\t\t\t\t\t\t\t\t\t\r\n",
            "\t\t\t\t\t\t\t\t\t\t\t\r\n",
            "\t\t\t\t\t\t\t\t\t</span>, <span class=\"data\">\r\n",
            "\t\t\t\t\t\t\t\t\t\t\r\n",
            "\t\t\t\t\t\t\t\t\t\t\r\n",
            "\t\t\t\t\t\t\t\t\t\t2020-09-23\r\n",
            "\t\t\t\t\t\t\t\t\t</span>, <span class=\"data\">\r\n",
            "\t\t\t\t\t\t\t\t\t\t\r\n",
            "\t\t\t\t\t\t\t\t\t\t\t\r\n",
            "\t\t\t\t\t\t\t\t\t\t\t\r\n",
            "\t\t\t\t\t\t\t\t\t\t\t\t2868\r\n",
            "\t\t\t\t\t\t\t\t\t\t\t\r\n",
            "\t\t\t\t\t\t\t\t\t\t\r\n",
            "\t\t\t\t\t\t\t\t\t</span>, <span class=\"data\">765</span>], [<span class=\"data\">\r\n",
            "\t\t\t\t\t\t\t\t\t\t\t\r\n",
            "\t\t\t\t\t\t\t\t\t\t\t\t\r\n",
            "\t\t\t\t\t\t\t\t\t\t\t\t\r\n",
            "\t\t\t\t\t\t\t\t\t\t\t\t\t한국언론진흥재단\r\n",
            "\t\t\t\t\t\t\t\t\t\t\t\t\r\n",
            "\t\t\t\t\t\t\t\t\t\t\t\r\n",
            "\t\t\t\t\t\t\t\t\t</span>, <span class=\"data\">\r\n",
            "\t\t\t\t\t\t\t\t\t\t\r\n",
            "\t\t\t\t\t\t\t\t\t\t\r\n",
            "\t\t\t\t\t\t\t\t\t\t2021-03-17\r\n",
            "\t\t\t\t\t\t\t\t\t</span>, <span class=\"data\">\r\n",
            "\t\t\t\t\t\t\t\t\t\t\r\n",
            "\t\t\t\t\t\t\t\t\t\t\t\r\n",
            "\t\t\t\t\t\t\t\t\t\t\t\r\n",
            "\t\t\t\t\t\t\t\t\t\t\t\t3525\r\n",
            "\t\t\t\t\t\t\t\t\t\t\t\r\n",
            "\t\t\t\t\t\t\t\t\t\t\r\n",
            "\t\t\t\t\t\t\t\t\t</span>, <span class=\"data\">1059</span>], [<span class=\"data\">\r\n",
            "\t\t\t\t\t\t\t\t\t\t\t\r\n",
            "\t\t\t\t\t\t\t\t\t\t\t\t\r\n",
            "\t\t\t\t\t\t\t\t\t\t\t\t\r\n",
            "\t\t\t\t\t\t\t\t\t\t\t\t\t한국언론진흥재단\r\n",
            "\t\t\t\t\t\t\t\t\t\t\t\t\r\n",
            "\t\t\t\t\t\t\t\t\t\t\t\r\n",
            "\t\t\t\t\t\t\t\t\t</span>, <span class=\"data\">\r\n",
            "\t\t\t\t\t\t\t\t\t\t\r\n",
            "\t\t\t\t\t\t\t\t\t\t\r\n",
            "\t\t\t\t\t\t\t\t\t\t2021-03-17\r\n",
            "\t\t\t\t\t\t\t\t\t</span>, <span class=\"data\">\r\n",
            "\t\t\t\t\t\t\t\t\t\t\r\n",
            "\t\t\t\t\t\t\t\t\t\t\t\r\n",
            "\t\t\t\t\t\t\t\t\t\t\t\r\n",
            "\t\t\t\t\t\t\t\t\t\t\t\t11669\r\n",
            "\t\t\t\t\t\t\t\t\t\t\t\r\n",
            "\t\t\t\t\t\t\t\t\t\t\r\n",
            "\t\t\t\t\t\t\t\t\t</span>, <span class=\"data\">4456</span>], [<span class=\"data\">\r\n",
            "\t\t\t\t\t\t\t\t\t\t\t\r\n",
            "\t\t\t\t\t\t\t\t\t\t\t\t\r\n",
            "\t\t\t\t\t\t\t\t\t\t\t\t\r\n",
            "\t\t\t\t\t\t\t\t\t\t\t\t\t부산광역시 수영구\r\n",
            "\t\t\t\t\t\t\t\t\t\t\t\t\r\n",
            "\t\t\t\t\t\t\t\t\t\t\t\r\n",
            "\t\t\t\t\t\t\t\t\t</span>, <span class=\"data\">\r\n",
            "\t\t\t\t\t\t\t\t\t\t\r\n",
            "\t\t\t\t\t\t\t\t\t\t\r\n",
            "\t\t\t\t\t\t\t\t\t\t2022-04-26\r\n",
            "\t\t\t\t\t\t\t\t\t</span>, <span class=\"data\">\r\n",
            "\t\t\t\t\t\t\t\t\t\t\r\n",
            "\t\t\t\t\t\t\t\t\t\t\t\r\n",
            "\t\t\t\t\t\t\t\t\t\t\t\r\n",
            "\t\t\t\t\t\t\t\t\t\t\t\t1275\r\n",
            "\t\t\t\t\t\t\t\t\t\t\t\r\n",
            "\t\t\t\t\t\t\t\t\t\t\r\n",
            "\t\t\t\t\t\t\t\t\t</span>, <span class=\"data\">191</span>], [<span class=\"data\">\r\n",
            "\t\t\t\t\t\t\t\t\t\t\t\r\n",
            "\t\t\t\t\t\t\t\t\t\t\t\t\r\n",
            "\t\t\t\t\t\t\t\t\t\t\t\t\r\n",
            "\t\t\t\t\t\t\t\t\t\t\t\t\t서울특별시 용산구\r\n",
            "\t\t\t\t\t\t\t\t\t\t\t\t\r\n",
            "\t\t\t\t\t\t\t\t\t\t\t\r\n",
            "\t\t\t\t\t\t\t\t\t</span>, <span class=\"data\">\r\n",
            "\t\t\t\t\t\t\t\t\t\t\r\n",
            "\t\t\t\t\t\t\t\t\t\t\r\n",
            "\t\t\t\t\t\t\t\t\t\t2022-03-17\r\n",
            "\t\t\t\t\t\t\t\t\t</span>, <span class=\"data\">\r\n",
            "\t\t\t\t\t\t\t\t\t\t\r\n",
            "\t\t\t\t\t\t\t\t\t\t\t\r\n",
            "\t\t\t\t\t\t\t\t\t\t\t\r\n",
            "\t\t\t\t\t\t\t\t\t\t\t\t248\r\n",
            "\t\t\t\t\t\t\t\t\t\t\t\r\n",
            "\t\t\t\t\t\t\t\t\t\t\r\n",
            "\t\t\t\t\t\t\t\t\t</span>, <span class=\"data\">53</span>], [<span class=\"data\">\r\n",
            "\t\t\t\t\t\t\t\t\t\t\t\r\n",
            "\t\t\t\t\t\t\t\t\t\t\t\t\r\n",
            "\t\t\t\t\t\t\t\t\t\t\t\t\r\n",
            "\t\t\t\t\t\t\t\t\t\t\t\t\t강원도\r\n",
            "\t\t\t\t\t\t\t\t\t\t\t\t\r\n",
            "\t\t\t\t\t\t\t\t\t\t\t\r\n",
            "\t\t\t\t\t\t\t\t\t</span>, <span class=\"data\">\r\n",
            "\t\t\t\t\t\t\t\t\t\t\r\n",
            "\t\t\t\t\t\t\t\t\t\t\r\n",
            "\t\t\t\t\t\t\t\t\t\t2022-03-28\r\n",
            "\t\t\t\t\t\t\t\t\t</span>, <span class=\"data\">\r\n",
            "\t\t\t\t\t\t\t\t\t\t\r\n",
            "\t\t\t\t\t\t\t\t\t\t\t\r\n",
            "\t\t\t\t\t\t\t\t\t\t\t\r\n",
            "\t\t\t\t\t\t\t\t\t\t\t\t4791\r\n",
            "\t\t\t\t\t\t\t\t\t\t\t\r\n",
            "\t\t\t\t\t\t\t\t\t\t\r\n",
            "\t\t\t\t\t\t\t\t\t</span>, <span class=\"data\">1320</span>], [<span class=\"data\">\r\n",
            "\t\t\t\t\t\t\t\t\t\t\t\r\n",
            "\t\t\t\t\t\t\t\t\t\t\t\t\r\n",
            "\t\t\t\t\t\t\t\t\t\t\t\t\r\n",
            "\t\t\t\t\t\t\t\t\t\t\t\t\t서울특별시 용산구\r\n",
            "\t\t\t\t\t\t\t\t\t\t\t\t\r\n",
            "\t\t\t\t\t\t\t\t\t\t\t\r\n",
            "\t\t\t\t\t\t\t\t\t</span>, <span class=\"data\">\r\n",
            "\t\t\t\t\t\t\t\t\t\t\r\n",
            "\t\t\t\t\t\t\t\t\t\t\r\n",
            "\t\t\t\t\t\t\t\t\t\t2022-03-17\r\n",
            "\t\t\t\t\t\t\t\t\t</span>, <span class=\"data\">\r\n",
            "\t\t\t\t\t\t\t\t\t\t\r\n",
            "\t\t\t\t\t\t\t\t\t\t\t\r\n",
            "\t\t\t\t\t\t\t\t\t\t\t\r\n",
            "\t\t\t\t\t\t\t\t\t\t\t\t2462\r\n",
            "\t\t\t\t\t\t\t\t\t\t\t\r\n",
            "\t\t\t\t\t\t\t\t\t\t\r\n",
            "\t\t\t\t\t\t\t\t\t</span>, <span class=\"data\">770</span>], [<span class=\"data\">\r\n",
            "\t\t\t\t\t\t\t\t\t\t\t\r\n",
            "\t\t\t\t\t\t\t\t\t\t\t\t\r\n",
            "\t\t\t\t\t\t\t\t\t\t\t\t\r\n",
            "\t\t\t\t\t\t\t\t\t\t\t\t\t전라북도 고창군\r\n",
            "\t\t\t\t\t\t\t\t\t\t\t\t\r\n",
            "\t\t\t\t\t\t\t\t\t\t\t\r\n",
            "\t\t\t\t\t\t\t\t\t</span>, <span class=\"data\">\r\n",
            "\t\t\t\t\t\t\t\t\t\t\r\n",
            "\t\t\t\t\t\t\t\t\t\t\r\n",
            "\t\t\t\t\t\t\t\t\t\t2022-04-01\r\n",
            "\t\t\t\t\t\t\t\t\t</span>, <span class=\"data\">\r\n",
            "\t\t\t\t\t\t\t\t\t\t\r\n",
            "\t\t\t\t\t\t\t\t\t\t\t\r\n",
            "\t\t\t\t\t\t\t\t\t\t\t\r\n",
            "\t\t\t\t\t\t\t\t\t\t\t\t94\r\n",
            "\t\t\t\t\t\t\t\t\t\t\t\r\n",
            "\t\t\t\t\t\t\t\t\t\t\r\n",
            "\t\t\t\t\t\t\t\t\t</span>, <span class=\"data\">41</span>], [<span class=\"data\">\r\n",
            "\t\t\t\t\t\t\t\t\t\t\t\r\n",
            "\t\t\t\t\t\t\t\t\t\t\t\t\r\n",
            "\t\t\t\t\t\t\t\t\t\t\t\t\r\n",
            "\t\t\t\t\t\t\t\t\t\t\t\t\t충청남도 계룡시\r\n",
            "\t\t\t\t\t\t\t\t\t\t\t\t\r\n",
            "\t\t\t\t\t\t\t\t\t\t\t\r\n",
            "\t\t\t\t\t\t\t\t\t</span>, <span class=\"data\">\r\n",
            "\t\t\t\t\t\t\t\t\t\t\r\n",
            "\t\t\t\t\t\t\t\t\t\t\r\n",
            "\t\t\t\t\t\t\t\t\t\t2022-03-24\r\n",
            "\t\t\t\t\t\t\t\t\t</span>, <span class=\"data\">\r\n",
            "\t\t\t\t\t\t\t\t\t\t\r\n",
            "\t\t\t\t\t\t\t\t\t\t\t\r\n",
            "\t\t\t\t\t\t\t\t\t\t\t\r\n",
            "\t\t\t\t\t\t\t\t\t\t\t\t82\r\n",
            "\t\t\t\t\t\t\t\t\t\t\t\r\n",
            "\t\t\t\t\t\t\t\t\t\t\r\n",
            "\t\t\t\t\t\t\t\t\t</span>, <span class=\"data\">11</span>]]\n"
          ]
        }
      ]
    },
    {
      "cell_type": "code",
      "source": [
        "import re\n",
        "list=[]\n",
        "for i in range(10):\n",
        "  ko = whole[i]\n",
        "  for a in range(4):\n",
        "    li = ko[a]\n",
        "    li = str(li)\n",
        "    li = re.sub('<.+?>','', li, a).strip()\n",
        "    list.append(li)\n",
        "list"
      ],
      "metadata": {
        "colab": {
          "base_uri": "https://localhost:8080/"
        },
        "id": "tHeULBrBuEBn",
        "outputId": "dca89c88-1b73-4443-a523-bb86f546b822"
      },
      "execution_count": 29,
      "outputs": [
        {
          "output_type": "execute_result",
          "data": {
            "text/plain": [
              "['한국언론진흥재단',\n",
              " '2021-08-25\\r\\n\\t\\t\\t\\t\\t\\t\\t\\t\\t</span>',\n",
              " '20049',\n",
              " '39972',\n",
              " '서울특별시 강동구',\n",
              " '2020-09-23\\r\\n\\t\\t\\t\\t\\t\\t\\t\\t\\t</span>',\n",
              " '2868',\n",
              " '765',\n",
              " '한국언론진흥재단',\n",
              " '2021-03-17\\r\\n\\t\\t\\t\\t\\t\\t\\t\\t\\t</span>',\n",
              " '3525',\n",
              " '1059',\n",
              " '한국언론진흥재단',\n",
              " '2021-03-17\\r\\n\\t\\t\\t\\t\\t\\t\\t\\t\\t</span>',\n",
              " '11669',\n",
              " '4456',\n",
              " '부산광역시 수영구',\n",
              " '2022-04-26\\r\\n\\t\\t\\t\\t\\t\\t\\t\\t\\t</span>',\n",
              " '1275',\n",
              " '191',\n",
              " '서울특별시 용산구',\n",
              " '2022-03-17\\r\\n\\t\\t\\t\\t\\t\\t\\t\\t\\t</span>',\n",
              " '248',\n",
              " '53',\n",
              " '강원도',\n",
              " '2022-03-28\\r\\n\\t\\t\\t\\t\\t\\t\\t\\t\\t</span>',\n",
              " '4791',\n",
              " '1320',\n",
              " '서울특별시 용산구',\n",
              " '2022-03-17\\r\\n\\t\\t\\t\\t\\t\\t\\t\\t\\t</span>',\n",
              " '2462',\n",
              " '770',\n",
              " '전라북도 고창군',\n",
              " '2022-04-01\\r\\n\\t\\t\\t\\t\\t\\t\\t\\t\\t</span>',\n",
              " '94',\n",
              " '41',\n",
              " '충청남도 계룡시',\n",
              " '2022-03-24\\r\\n\\t\\t\\t\\t\\t\\t\\t\\t\\t</span>',\n",
              " '82',\n",
              " '11']"
            ]
          },
          "metadata": {},
          "execution_count": 29
        }
      ]
    }
  ]
}