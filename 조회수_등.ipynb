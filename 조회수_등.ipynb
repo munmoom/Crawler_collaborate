{
  "nbformat": 4,
  "nbformat_minor": 0,
  "metadata": {
    "colab": {
      "name": "조회수_등.ipynb",
      "provenance": [],
      "include_colab_link": true
    },
    "kernelspec": {
      "name": "python3",
      "display_name": "Python 3"
    },
    "language_info": {
      "name": "python"
    }
  },
  "cells": [
    {
      "cell_type": "markdown",
      "metadata": {
        "id": "view-in-github",
        "colab_type": "text"
      },
      "source": [
        "<a href=\"https://colab.research.google.com/github/munmoom/Crawler_collaborate/blob/main/%EC%A1%B0%ED%9A%8C%EC%88%98_%EB%93%B1.ipynb\" target=\"_parent\"><img src=\"https://colab.research.google.com/assets/colab-badge.svg\" alt=\"Open In Colab\"/></a>"
      ]
    },
    {
      "cell_type": "code",
      "execution_count": null,
      "metadata": {
        "id": "Z4-5u1hXZU82"
      },
      "outputs": [],
      "source": [
        "from urllib.request import urlopen\n",
        "url='https://www.data.go.kr/tcs/dss/selectDataSetList.do?dType=FILE&keyword=%EC%BD%94%EB%A1%9C%EB%82%98&detailKeyword=&publicDataPk=&recmSe=&detailText=&relatedKeyword=&commaNotInData=&commaAndData=&commaOrData=&must_not=&tabId=&dataSetCoreTf=&coreDataNm=&sort=_score&relRadio=&orgFullName=&orgFilter=&org=&orgSearch=&currentPage=1&perPage=10&brm=&instt=&svcType=&kwrdArray=&extsn=&coreDataNmArray=&pblonsipScopeCode='\n",
        "htmlData=urlopen(url).read()\n",
        "htmlData=htmlData.decode('utf8')\n",
        "from bs4 import BeautifulSoup as bs\n",
        "html=bs(htmlData,'html.parser')\n",
        "html"
      ]
    },
    {
      "cell_type": "code",
      "source": [
        "ul = html.select('#fileDataList > div.result-list > ul > li')\n",
        "ul"
      ],
      "metadata": {
        "id": "b8SgkCWcZdEz"
      },
      "execution_count": null,
      "outputs": []
    },
    {
      "cell_type": "code",
      "source": [
        "who = []\n",
        "for item in ul:\n",
        "  num = item.find_all(\"span\", class_='tit')\n",
        "  who.append(num)\n",
        "print(who)"
      ],
      "metadata": {
        "colab": {
          "base_uri": "https://localhost:8080/"
        },
        "id": "H2dOyKbvjngI",
        "outputId": "9b149346-7037-4334-ffbb-faa2ed7cdaa2"
      },
      "execution_count": 65,
      "outputs": [
        {
          "output_type": "stream",
          "name": "stdout",
          "text": [
            "[[<span class=\"tit\">제공기관</span>, <span class=\"tit\">수정일</span>, <span class=\"tit\">조회수</span>, <span class=\"tit\">다운로드</span>, <span class=\"tit\">주기성 데이터</span>, <span class=\"tit\">키워드</span>], [<span class=\"tit\">제공기관</span>, <span class=\"tit\">수정일</span>, <span class=\"tit\">조회수</span>, <span class=\"tit\">다운로드</span>, <span class=\"tit\">키워드</span>], [<span class=\"tit\">제공기관</span>, <span class=\"tit\">수정일</span>, <span class=\"tit\">조회수</span>, <span class=\"tit\">다운로드</span>, <span class=\"tit\">키워드</span>], [<span class=\"tit\">제공기관</span>, <span class=\"tit\">수정일</span>, <span class=\"tit\">조회수</span>, <span class=\"tit\">다운로드</span>, <span class=\"tit\">키워드</span>], [<span class=\"tit\">제공기관</span>, <span class=\"tit\">수정일</span>, <span class=\"tit\">조회수</span>, <span class=\"tit\">다운로드</span>, <span class=\"tit\">키워드</span>], [<span class=\"tit\">제공기관</span>, <span class=\"tit\">수정일</span>, <span class=\"tit\">조회수</span>, <span class=\"tit\">다운로드</span>, <span class=\"tit\">키워드</span>], [<span class=\"tit\">제공기관</span>, <span class=\"tit\">수정일</span>, <span class=\"tit\">조회수</span>, <span class=\"tit\">다운로드</span>, <span class=\"tit\">키워드</span>], [<span class=\"tit\">제공기관</span>, <span class=\"tit\">수정일</span>, <span class=\"tit\">조회수</span>, <span class=\"tit\">다운로드</span>, <span class=\"tit\">키워드</span>], [<span class=\"tit\">제공기관</span>, <span class=\"tit\">수정일</span>, <span class=\"tit\">조회수</span>, <span class=\"tit\">다운로드</span>, <span class=\"tit\">키워드</span>], [<span class=\"tit\">제공기관</span>, <span class=\"tit\">수정일</span>, <span class=\"tit\">조회수</span>, <span class=\"tit\">다운로드</span>, <span class=\"tit\">키워드</span>]]\n"
          ]
        }
      ]
    },
    {
      "cell_type": "code",
      "source": [
        "import re\n",
        "ti=[]\n",
        "who = who[0]\n",
        "who"
      ],
      "metadata": {
        "id": "UTYg8Z85_UKg",
        "outputId": "3469b987-d9ee-4cea-aa3c-33ced1d490b9",
        "colab": {
          "base_uri": "https://localhost:8080/"
        }
      },
      "execution_count": 66,
      "outputs": [
        {
          "output_type": "execute_result",
          "data": {
            "text/plain": [
              "[<span class=\"tit\">제공기관</span>,\n",
              " <span class=\"tit\">수정일</span>,\n",
              " <span class=\"tit\">조회수</span>,\n",
              " <span class=\"tit\">다운로드</span>,\n",
              " <span class=\"tit\">주기성 데이터</span>,\n",
              " <span class=\"tit\">키워드</span>]"
            ]
          },
          "metadata": {},
          "execution_count": 66
        }
      ]
    },
    {
      "cell_type": "code",
      "source": [
        "for a in range(4):\n",
        "    tit = who[a]\n",
        "    tit = str(tit)\n",
        "    tit = re.sub('<.+?>','', tit, a).strip()\n",
        "    ti.append(tit)\n",
        "ti"
      ],
      "metadata": {
        "id": "yyJUcsd3BVNS",
        "outputId": "1aaece54-3e07-4261-b373-693863596398",
        "colab": {
          "base_uri": "https://localhost:8080/"
        }
      },
      "execution_count": 67,
      "outputs": [
        {
          "output_type": "execute_result",
          "data": {
            "text/plain": [
              "['제공기관', '수정일</span>', '조회수', '다운로드']"
            ]
          },
          "metadata": {},
          "execution_count": 67
        }
      ]
    },
    {
      "cell_type": "code",
      "source": [
        "string = ti[1]\n",
        "string = string[0:3]\n",
        "del ti[1]\n",
        "ti.insert(1, string)\n",
        "ti"
      ],
      "metadata": {
        "id": "WTVIQ0iyBjP3",
        "outputId": "10ec5aa4-ebc3-4a0c-9d59-356979ed5517",
        "colab": {
          "base_uri": "https://localhost:8080/"
        }
      },
      "execution_count": 69,
      "outputs": [
        {
          "output_type": "execute_result",
          "data": {
            "text/plain": [
              "['제공기관', '수정일', '조회수', '다운로드']"
            ]
          },
          "metadata": {},
          "execution_count": 69
        }
      ]
    },
    {
      "cell_type": "code",
      "source": [
        "whole = []\n",
        "for item in ul:\n",
        "  num = item.find_all(\"span\", class_='data')\n",
        "  whole.append(num)\n",
        "print(whole)"
      ],
      "metadata": {
        "id": "-mqSZurVk973"
      },
      "execution_count": null,
      "outputs": []
    },
    {
      "cell_type": "code",
      "source": [
        "import re\n",
        "list=[]\n",
        "for i in range(10):\n",
        "  ko = whole[i]\n",
        "  for a in range(4):\n",
        "    li = ko[a]\n",
        "    li = str(li)\n",
        "    li = re.sub('<.+?>','', li, a).strip()\n",
        "    list.append(li)\n",
        "list"
      ],
      "metadata": {
        "id": "tHeULBrBuEBn"
      },
      "execution_count": null,
      "outputs": []
    },
    {
      "cell_type": "code",
      "source": [
        "for i in range(10):\n",
        "  k = 2+4*i-1\n",
        "  date = str(list[k])[0:10]\n",
        "  del list[k]\n",
        "  list.insert(k, date)\n",
        "\n",
        "list"
      ],
      "metadata": {
        "colab": {
          "base_uri": "https://localhost:8080/"
        },
        "id": "VoKvLJh11Lsf",
        "outputId": "c9477163-cfbf-464f-9a93-416db670f2f7"
      },
      "execution_count": 71,
      "outputs": [
        {
          "output_type": "execute_result",
          "data": {
            "text/plain": [
              "['한국언론진흥재단',\n",
              " '2021-08-25',\n",
              " '20049',\n",
              " '39972',\n",
              " '서울특별시 강동구',\n",
              " '2020-09-23',\n",
              " '2868',\n",
              " '765',\n",
              " '한국언론진흥재단',\n",
              " '2021-03-17',\n",
              " '3525',\n",
              " '1059',\n",
              " '한국언론진흥재단',\n",
              " '2021-03-17',\n",
              " '11669',\n",
              " '4456',\n",
              " '부산광역시 수영구',\n",
              " '2022-04-26',\n",
              " '1275',\n",
              " '191',\n",
              " '서울특별시 용산구',\n",
              " '2022-03-17',\n",
              " '248',\n",
              " '53',\n",
              " '강원도',\n",
              " '2022-03-28',\n",
              " '4791',\n",
              " '1320',\n",
              " '서울특별시 용산구',\n",
              " '2022-03-17',\n",
              " '2462',\n",
              " '770',\n",
              " '전라북도 고창군',\n",
              " '2022-04-01',\n",
              " '94',\n",
              " '41',\n",
              " '충청남도 계룡시',\n",
              " '2022-03-24',\n",
              " '82',\n",
              " '11']"
            ]
          },
          "metadata": {},
          "execution_count": 71
        }
      ]
    },
    {
      "cell_type": "code",
      "source": [
        "import pandas as pd\n",
        "\n",
        "print(ti)\n",
        "print(list)\n"
      ],
      "metadata": {
        "colab": {
          "base_uri": "https://localhost:8080/"
        },
        "id": "5VwYyVZs6UQu",
        "outputId": "599ebaa3-813a-42eb-efce-6548f355477f"
      },
      "execution_count": 72,
      "outputs": [
        {
          "output_type": "stream",
          "name": "stdout",
          "text": [
            "['제공기관', '수정일', '조회수', '다운로드']\n",
            "['한국언론진흥재단', '2021-08-25', '20049', '39972', '서울특별시 강동구', '2020-09-23', '2868', '765', '한국언론진흥재단', '2021-03-17', '3525', '1059', '한국언론진흥재단', '2021-03-17', '11669', '4456', '부산광역시 수영구', '2022-04-26', '1275', '191', '서울특별시 용산구', '2022-03-17', '248', '53', '강원도', '2022-03-28', '4791', '1320', '서울특별시 용산구', '2022-03-17', '2462', '770', '전라북도 고창군', '2022-04-01', '94', '41', '충청남도 계룡시', '2022-03-24', '82', '11']\n"
          ]
        }
      ]
    }
  ]
}