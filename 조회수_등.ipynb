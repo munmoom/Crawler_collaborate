{
  "nbformat": 4,
  "nbformat_minor": 0,
  "metadata": {
    "colab": {
      "name": "조회수_등.ipynb",
      "provenance": [],
      "include_colab_link": true
    },
    "kernelspec": {
      "name": "python3",
      "display_name": "Python 3"
    },
    "language_info": {
      "name": "python"
    }
  },
  "cells": [
    {
      "cell_type": "markdown",
      "metadata": {
        "id": "view-in-github",
        "colab_type": "text"
      },
      "source": [
        "<a href=\"https://colab.research.google.com/github/munmoom/Crawler_collaborate/blob/main/%EC%A1%B0%ED%9A%8C%EC%88%98_%EB%93%B1.ipynb\" target=\"_parent\"><img src=\"https://colab.research.google.com/assets/colab-badge.svg\" alt=\"Open In Colab\"/></a>"
      ]
    },
    {
      "cell_type": "code",
      "execution_count": null,
      "metadata": {
        "id": "Z4-5u1hXZU82"
      },
      "outputs": [],
      "source": [
        "from urllib.request import urlopen\n",
        "url='https://www.data.go.kr/tcs/dss/selectDataSetList.do?dType=FILE&keyword=%EC%BD%94%EB%A1%9C%EB%82%98&detailKeyword=&publicDataPk=&recmSe=&detailText=&relatedKeyword=&commaNotInData=&commaAndData=&commaOrData=&must_not=&tabId=&dataSetCoreTf=&coreDataNm=&sort=_score&relRadio=&orgFullName=&orgFilter=&org=&orgSearch=&currentPage=1&perPage=10&brm=&instt=&svcType=&kwrdArray=&extsn=&coreDataNmArray=&pblonsipScopeCode='\n",
        "htmlData=urlopen(url).read()\n",
        "htmlData=htmlData.decode('utf8')\n",
        "from bs4 import BeautifulSoup as bs\n",
        "html=bs(htmlData,'html.parser')\n",
        "html"
      ]
    },
    {
      "cell_type": "code",
      "source": [
        "ul = html.select('#fileDataList > div.result-list > ul > li')\n",
        "ul"
      ],
      "metadata": {
        "id": "b8SgkCWcZdEz"
      },
      "execution_count": null,
      "outputs": []
    },
    {
      "cell_type": "code",
      "source": [
        "who = []\n",
        "for item in ul:\n",
        "  num = item.find_all(\"span\", class_='tit')\n",
        "  who.append(num)\n",
        "print(who)"
      ],
      "metadata": {
        "id": "H2dOyKbvjngI"
      },
      "execution_count": null,
      "outputs": []
    },
    {
      "cell_type": "code",
      "source": [
        "whole = []\n",
        "for item in ul:\n",
        "  num = item.find_all(\"span\", class_='data')\n",
        "  whole.append(num)\n",
        "print(whole)"
      ],
      "metadata": {
        "id": "-mqSZurVk973"
      },
      "execution_count": null,
      "outputs": []
    },
    {
      "cell_type": "code",
      "source": [
        "import re\n",
        "list=[]\n",
        "for i in range(10):\n",
        "  ko = whole[i]\n",
        "  for a in range(4):\n",
        "    li = ko[a]\n",
        "    li = str(li)\n",
        "    li = re.sub('<.+?>','', li, a).strip()\n",
        "    list.append(li)\n",
        "list"
      ],
      "metadata": {
        "colab": {
          "base_uri": "https://localhost:8080/"
        },
        "id": "tHeULBrBuEBn",
        "outputId": "874f6468-f49c-4d14-ebba-a69439875c7e"
      },
      "execution_count": 28,
      "outputs": [
        {
          "output_type": "execute_result",
          "data": {
            "text/plain": [
              "['한국언론진흥재단',\n",
              " '2021-08-25\\r\\n\\t\\t\\t\\t\\t\\t\\t\\t\\t</span>',\n",
              " '20049',\n",
              " '39972',\n",
              " '서울특별시 강동구',\n",
              " '2020-09-23\\r\\n\\t\\t\\t\\t\\t\\t\\t\\t\\t</span>',\n",
              " '2868',\n",
              " '765',\n",
              " '한국언론진흥재단',\n",
              " '2021-03-17\\r\\n\\t\\t\\t\\t\\t\\t\\t\\t\\t</span>',\n",
              " '3525',\n",
              " '1059',\n",
              " '한국언론진흥재단',\n",
              " '2021-03-17\\r\\n\\t\\t\\t\\t\\t\\t\\t\\t\\t</span>',\n",
              " '11669',\n",
              " '4456',\n",
              " '부산광역시 수영구',\n",
              " '2022-04-26\\r\\n\\t\\t\\t\\t\\t\\t\\t\\t\\t</span>',\n",
              " '1275',\n",
              " '191',\n",
              " '서울특별시 용산구',\n",
              " '2022-03-17\\r\\n\\t\\t\\t\\t\\t\\t\\t\\t\\t</span>',\n",
              " '248',\n",
              " '53',\n",
              " '강원도',\n",
              " '2022-03-28\\r\\n\\t\\t\\t\\t\\t\\t\\t\\t\\t</span>',\n",
              " '4791',\n",
              " '1320',\n",
              " '서울특별시 용산구',\n",
              " '2022-03-17\\r\\n\\t\\t\\t\\t\\t\\t\\t\\t\\t</span>',\n",
              " '2462',\n",
              " '770',\n",
              " '전라북도 고창군',\n",
              " '2022-04-01\\r\\n\\t\\t\\t\\t\\t\\t\\t\\t\\t</span>',\n",
              " '94',\n",
              " '41',\n",
              " '충청남도 계룡시',\n",
              " '2022-03-24\\r\\n\\t\\t\\t\\t\\t\\t\\t\\t\\t</span>',\n",
              " '82',\n",
              " '11']"
            ]
          },
          "metadata": {},
          "execution_count": 28
        }
      ]
    },
    {
      "cell_type": "code",
      "source": [
        "for i in range(10):\n",
        "  k = 2+4*i-1\n",
        "  date = str(list[k])[0:10]\n",
        "  del list[k]\n",
        "  list.insert(k, date)\n",
        "\n",
        "list\n",
        "  "
      ],
      "metadata": {
        "id": "VoKvLJh11Lsf",
        "outputId": "8dea62d2-26ed-453f-854c-9c1c11fe8c8a",
        "colab": {
          "base_uri": "https://localhost:8080/"
        }
      },
      "execution_count": 30,
      "outputs": [
        {
          "output_type": "execute_result",
          "data": {
            "text/plain": [
              "['한국언론진흥재단',\n",
              " '2021-08-25',\n",
              " '20049',\n",
              " '39972',\n",
              " '서울특별시 강동구',\n",
              " '2020-09-23',\n",
              " '2868',\n",
              " '765',\n",
              " '한국언론진흥재단',\n",
              " '2021-03-17',\n",
              " '3525',\n",
              " '1059',\n",
              " '한국언론진흥재단',\n",
              " '2021-03-17',\n",
              " '11669',\n",
              " '4456',\n",
              " '부산광역시 수영구',\n",
              " '2022-04-26',\n",
              " '1275',\n",
              " '191',\n",
              " '서울특별시 용산구',\n",
              " '2022-03-17',\n",
              " '248',\n",
              " '53',\n",
              " '강원도',\n",
              " '2022-03-28',\n",
              " '4791',\n",
              " '1320',\n",
              " '서울특별시 용산구',\n",
              " '2022-03-17',\n",
              " '2462',\n",
              " '770',\n",
              " '전라북도 고창군',\n",
              " '2022-04-01',\n",
              " '94',\n",
              " '41',\n",
              " '충청남도 계룡시',\n",
              " '2022-03-24',\n",
              " '82',\n",
              " '11']"
            ]
          },
          "metadata": {},
          "execution_count": 30
        }
      ]
    }
  ]
}