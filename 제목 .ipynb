{
  "nbformat": 4,
  "nbformat_minor": 0,
  "metadata": {
    "colab": {
      "name": "제목, 설명.ipynb",
      "provenance": [],
      "include_colab_link": true
    },
    "kernelspec": {
      "name": "python3",
      "display_name": "Python 3"
    },
    "language_info": {
      "name": "python"
    }
  },
  "cells": [
    {
      "cell_type": "markdown",
      "metadata": {
        "id": "view-in-github",
        "colab_type": "text"
      },
      "source": [
        "<a href=\"https://colab.research.google.com/github/munmoom/Crawler_collaborate/blob/main/%EC%A0%9C%EB%AA%A9-%E3%85%A0%E3%85%A0%E3%85%A0%E3%85%A0%E3%85%A0.ipynb\" target=\"_parent\"><img src=\"https://colab.research.google.com/assets/colab-badge.svg\" alt=\"Open In Colab\"/></a>"
      ]
    },
    {
      "cell_type": "code",
      "source": [
        "from urllib.request import urlopen\n",
        "url='https://www.data.go.kr/tcs/dss/selectDataSetList.do?dType=FILE&keyword=%EC%BD%94%EB%A1%9C%EB%82%98&detailKeyword=&publicDataPk=&recmSe=&detailText=&relatedKeyword=&commaNotInData=&commaAndData=&commaOrData=&must_not=&tabId=&dataSetCoreTf=&coreDataNm=&sort=_score&relRadio=&orgFullName=&orgFilter=&org=&orgSearch=&currentPage=1&perPage=10&brm=&instt=&svcType=&kwrdArray=&extsn=&coreDataNmArray=&pblonsipScopeCode='\n",
        "htmlData=urlopen(url).read()\n",
        "htmlData=htmlData.decode('utf8')\n",
        "from bs4 import BeautifulSoup as bs\n",
        "html=bs(htmlData,'html.parser')\n",
        "ul=html.select('#fileDataList > div.result-list > ul')\n",
        "head = []\n",
        "for item in ul:\n",
        "  title = item.find_all(\"span\", class_='title')\n",
        "  none = item.find_all(\"span\",class_='esHilight')\n",
        "  head.append(title)\n",
        "\n",
        "print(head)\n"
      ],
      "metadata": {
        "id": "hKJ65ZpayW5G"
      },
      "execution_count": null,
      "outputs": []
    },
    {
      "cell_type": "code",
      "source": [
        "import re\n",
        "ABC=[]\n",
        "header = head[0]\n",
        "for i in range(10):\n",
        "  no=header[i]\n",
        "  no=str(no)\n",
        "  no = re.sub('<.+?>', '', no, i).strip()\n",
        "  for k in range(1,3):\n",
        "    no = re.sub('<.+?>', '', no, k).strip()\n",
        "\n",
        "  no = re.sub('<.+?>', '', no, 2).strip()\n",
        "  ABC.append(no)\n",
        "\n",
        "ABC"
      ],
      "metadata": {
        "colab": {
          "base_uri": "https://localhost:8080/"
        },
        "id": "_eaabiLI4KYA",
        "outputId": "56e05f5f-88c4-4668-fb7c-7541111f9008"
      },
      "execution_count": 4,
      "outputs": [
        {
          "output_type": "execute_result",
          "data": {
            "text/plain": [
              "['한국언론진흥재단_뉴스빅데이터_메타데이터_코로나',\n",
              " '서울특별시 강동구_코로나동별현황',\n",
              " '한국언론진흥재단_코로나19이후국민의일상변화조사_포스트 코로나 사회에 대한 전망',\n",
              " '한국언론진흥재단_코로나19이후국민의일상변화조사_코로나19로 인한 감정 변화',\n",
              " '부산광역시 수영구_코로나 확진자 수',\n",
              " '서울특별시 용산구_코로나19사망자',\n",
              " '강원도_코로나19 확진자 현황',\n",
              " '서울특별시 용산구_코로나19확진자',\n",
              " '전라북도 고창군_코로나19 현황',\n",
              " '충청남도 계룡시_코로나19 확진자']"
            ]
          },
          "metadata": {},
          "execution_count": 4
        }
      ]
    }
  ]
}
